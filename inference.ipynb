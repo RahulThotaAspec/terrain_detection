{
 "cells": [
  {
   "cell_type": "code",
   "execution_count": 1,
   "metadata": {},
   "outputs": [],
   "source": [
    "import os\n",
    "import torch\n",
    "from fastai.torch_imports import resnet34\n",
    "from fastai.transforms import tfms_from_model\n",
    "from fastai.conv_learner import ConvnetBuilder\n",
    "from fastai.core import V, VV, to_np, is_listy\n",
    "from fastai.dataset import FilesIndexArrayDataset\n",
    "from fastai.dataloader import DataLoader\n",
    "from fastai.model import get_prediction\n",
    "import numpy as np\n",
    "from tqdm import tqdm\n",
    "import warnings\n",
    "warnings.filterwarnings(\"ignore\")"
   ]
  },
  {
   "cell_type": "code",
   "execution_count": 2,
   "metadata": {},
   "outputs": [],
   "source": [
    "sz = 224\n",
    "bs = 128\n",
    "model = resnet34\n",
    "model_weight_path = 'data/ternonter/models/224_all_ter_train_aug.h5'"
   ]
  },
  {
   "cell_type": "code",
   "execution_count": 3,
   "metadata": {},
   "outputs": [],
   "source": [
    "trn_tfms, val_tfms = tfms_from_model(model, sz)\n",
    "preprocess = val_tfms\n",
    "model = ConvnetBuilder(model, 2, False, False, pretrained=False).model\n",
    "sd = torch.load(model_weight_path)\n",
    "model.load_state_dict(sd)\n",
    "# self.model = self.model.cpu()\n",
    "model.eval();"
   ]
  },
  {
   "cell_type": "code",
   "execution_count": 4,
   "metadata": {},
   "outputs": [],
   "source": [
    "data_dir = 'data/ternonter/test1/'\n",
    "flist = os.listdir(data_dir)\n",
    "ds = FilesIndexArrayDataset(flist, np.ones(len(flist)), preprocess, path=data_dir)\n",
    "dl = DataLoader(ds, batch_size=bs)"
   ]
  },
  {
   "cell_type": "code",
   "execution_count": 5,
   "metadata": {},
   "outputs": [],
   "source": [
    "def get_predictions(model, dl):\n",
    "    res = []\n",
    "    for *x,y in dl: \n",
    "        res.append([get_prediction(to_np(model(*VV(x)))),to_np(y)])\n",
    "    preds,targ = zip(*res)\n",
    "    return np.concatenate(preds)"
   ]
  },
  {
   "cell_type": "code",
   "execution_count": 6,
   "metadata": {},
   "outputs": [
    {
     "name": "stdout",
     "output_type": "stream",
     "text": [
      "CPU times: user 20.2 s, sys: 14.9 s, total: 35.1 s\n",
      "Wall time: 22.5 s\n"
     ]
    }
   ],
   "source": [
    "%%time\n",
    "\n",
    "preds = get_predictions(model, dl)"
   ]
  },
  {
   "cell_type": "code",
   "execution_count": 10,
   "metadata": {},
   "outputs": [
    {
     "data": {
      "text/plain": [
       "array([[-0.2912 , -1.37581],\n",
       "       [-0.01717, -4.07336],\n",
       "       [-0.02247, -3.80661],\n",
       "       [-0.37999, -1.1516 ],\n",
       "       [-1.04822, -0.43165],\n",
       "       [-0.5302 , -0.88791],\n",
       "       [-0.09028, -2.44967],\n",
       "       [-0.0044 , -5.42932],\n",
       "       [-0.20785, -1.67305],\n",
       "       [-0.4499 , -1.01526]], dtype=float32)"
      ]
     },
     "execution_count": 10,
     "metadata": {},
     "output_type": "execute_result"
    }
   ],
   "source": [
    "preds[:10,:]"
   ]
  },
  {
   "cell_type": "code",
   "execution_count": 11,
   "metadata": {},
   "outputs": [
    {
     "data": {
      "text/plain": [
       "array([0.74737, 0.25263])"
      ]
     },
     "execution_count": 11,
     "metadata": {},
     "output_type": "execute_result"
    }
   ],
   "source": [
    "np.exp([-0.2912 , -1.37581])"
   ]
  },
  {
   "cell_type": "code",
   "execution_count": null,
   "metadata": {},
   "outputs": [],
   "source": []
  }
 ],
 "metadata": {
  "kernelspec": {
   "display_name": "Python 3",
   "language": "python",
   "name": "python3"
  },
  "language_info": {
   "codemirror_mode": {
    "name": "ipython",
    "version": 3
   },
   "file_extension": ".py",
   "mimetype": "text/x-python",
   "name": "python",
   "nbconvert_exporter": "python",
   "pygments_lexer": "ipython3",
   "version": "3.6.7"
  }
 },
 "nbformat": 4,
 "nbformat_minor": 2
}
